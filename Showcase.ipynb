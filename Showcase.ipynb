{
 "cells": [
  {
   "cell_type": "code",
   "execution_count": 1,
   "metadata": {
    "collapsed": true
   },
   "outputs": [],
   "source": [
    "%matplotlib inline\n",
    "import numpy as np\n",
    "import matplotlib.pyplot as plt\n",
    "from mpl_toolkits.mplot3d import Axes3D\n",
    "from scipy import signal,sparse\n",
    "import warnings\n",
    "warnings.filterwarnings('ignore')"
   ]
  },
  {
   "cell_type": "markdown",
   "metadata": {},
   "source": [
    "# Source and Flare Detection for Poisson Noise Data\n",
    "\n",
    "The goal of the project is to detect a \"flare\" in an image, where both the background and signal have very low detection efficiency. The arrival of photons follows a possion distribution, with both signal and background having an expectency $\\ll1$ per pixel.\n",
    "\n",
    "\n",
    "## Table of contents\n",
    "\n",
    "- <a href=\"#statModel\">1. Statistical Model</a><br>\n",
    "    - <a href=\"#Signaltemplatedetectorresponse\">Signal template and simulated detector response</a><br>\n",
    "    \n",
    "- <a href=\"#testStatDerivation\">2. Derivation of test statistic</a><br>\n",
    "\n",
    "    \n",
    "\n",
    "- <a href=\"#threshold\">3. Calculating consistent threshold values for the flux and the test statistic </a><br>\n",
    "    - <a href=\"#thresholdResults\">Table of results for different values of parameters</a><br>\n",
    "    \n",
    "    \n",
    "- <a href=\"#Completeness\">5. Completeness of signal detection for both methods</a><br>\n",
    "    - <a href=\"#background\">As a function of background expectation</a><br>\n",
    "    - <a href=\"#positive\">As a function of false positive rate</a><br>\n",
    "    - <a href=\"#decay\">As a function of decay time of flare</a><br>\n",
    "    - <a href=\"#PSF\">As a function of size of PSF</a><br>\n",
    "\n",
    "\n",
    "- <a href=\"#Conclusions\">6. Conclusions</a><br>\n",
    "\n",
    "\n",
    "- <a href=\"https://github.com/jshlomi/SignalProcessingProject/tree/master/MatlabCode\">External link to MATLAB code</a><br>\n",
    "\n",
    "\n",
    "- <a href=\"#Code\">7. Code</a><br>\n",
    "    - <a href=\"#statModelCode\">Code for generating signal and background samples</a><br>\n",
    "    - <a href=\"#SandFthresholdsCode\">Code for calculating threshold values of F and S</a><br>\n",
    "    - <a href=\"#CompleteCode\">Full code example - generate image+signal for completeness calculation</a><br>"
   ]
  },
  {
   "cell_type": "markdown",
   "metadata": {},
   "source": [
    "<a id='statModel'></a>"
   ]
  },
  {
   "cell_type": "markdown",
   "metadata": {},
   "source": [
    "### Statistical model\n",
    "Our models for the two hypotheses are:\n",
    "\n",
    "background only:\n",
    "\n",
    "$H_{0} : M(q) \\thicksim poi(q|B)$\n",
    "\n",
    "background + signal:\n",
    "\n",
    "$H_{1}(q_{0},F) : M(q) \\thicksim poi(B+FPT)$\n",
    "\n",
    "where $poi(X)$ is the poisson distribution with expected value X, F is some constant number (the flux), P is a point spread function in (x,y) and T is some \"flare function\" of time. As a convention, we normalize the integral of PT over (x,y,t) to 1. F controls the overall normalisation of the signal strength."
   ]
  },
  {
   "cell_type": "markdown",
   "metadata": {},
   "source": [
    "<a id='Signaltemplatedetectorresponse'></a>"
   ]
  },
  {
   "cell_type": "markdown",
   "metadata": {},
   "source": [
    "#### Signal template and simulated detector response\n",
    "\n",
    "We used simulated flare-signals in order to test the detection method developed here and compare it to a more naive approach.\n",
    "\n",
    "The signal template is a Gaussian 2D PSF in the (xy) plane that decays exponentially along the z-axis. By convention it is normalized to 1. \n",
    "\n",
    "To simulate the detector response to a signal-flare with a given overall flux F, we first normalize the template signal to F. We then know the flux value per pixel Fp. The probability that the detector receives one or more photons per unit of time then follows the Poisson distribution with mean Fp (assuming 1 unit of time corresponds to one pixel in the z-direction). The detector response at its corresponding pixel is thus randomly generated from Poiss(Fp). \n",
    "\n",
    " <a href=\"#statModelCode\">Code for generating signal and background samples with example plots</a><br>\n",
    " \n",
    "A plot of the signal template (left) and the simulated signal inside a simulated background:\n",
    "\n",
    "\n",
    "<p float=\"left\">\n",
    "  <img align=\"left\" src=\"images/signalTemplate.png\" width=\"300\"/> \n",
    "  <img align=\"left\" src=\"images/exampleSimulatedImage.png\" width=\"350\"/>\n",
    "</p>"
   ]
  },
  {
   "cell_type": "markdown",
   "metadata": {},
   "source": [
    "<a id='testStatDerivation'></a>"
   ]
  },
  {
   "cell_type": "markdown",
   "metadata": {},
   "source": [
    "### Test statistic\n",
    "Our test statistic is the log likelihood ratio,\n",
    "\n",
    "$S = log(\\frac{P_{pois}(M|H1)}{P_{pois}(M|H0)} )$\n",
    "\n",
    "$= log\\left(\\frac{\\Pi_{q}\\frac{(B+FPT)^{m_{q}}e^{-(B+FPT)}}{m_{q}!}}{\\Pi_{q}\\frac{B^{m_{q}}e^{-B}}{m_{q}!}}\\right)$\n",
    "\n",
    "$$= \\sum_{q}M_{q}log\\left(1+\\frac{FPT}{B}\\right)$$\n",
    "\n",
    "If F was known, this test statistic would be optimal. \n",
    "But the PDF of S depends on F (the flux) in a non linear way so it can't be factored out and absorbed into the threshold of S."
   ]
  },
  {
   "cell_type": "markdown",
   "metadata": {},
   "source": [
    "<a id='threshold'></a>"
   ]
  },
  {
   "cell_type": "markdown",
   "metadata": {},
   "source": [
    "### Consistent threshold values for the flux and the test statistic\n",
    "\n",
    "One possibility is to search for signals of a particular flux, if we have some way to estimate it.\n",
    "Since we are searching for a signal of unknown flux, we need to find some value to use in the filter.\n",
    "If our data was exactly the signal (FPT) but with the background B subtracted, and we were to multiply it by the filter, the value of S we would get would be:\n",
    "\n",
    "$S = (F-B)\\sum_{q}(PT)_{(q)}log\\left(1+\\frac{FPT}{B}\\right)$\n",
    "\n",
    "We are sensitive only to a flux which would make this value of S at least equal to the threshold S required for false alarm rate $\\beta$. That flux, which self consistently (through the PDF of S), is denoted as the \"threshold flux\".\n",
    "\n",
    "So we must solve numerically the system of two equations:\n",
    "\n",
    "$$\\int_{S_{threshold}}^{\\infty}PDF_{(S)}dS=\\beta$$\n",
    "\n",
    "$$S_{threshold} = (F_{threshold}-B)\\sum_{q}(PT)_{(q)}log\\left(1+\\frac{F_{threshold}PT}{B}\\right)$$\n",
    "\n",
    "We can start from an intial guess for $F_{threshold}$ as the value of flux that would solve the equation:\n",
    "\n",
    "$1-\\beta = \\int_{0}^{F_{threshold}}Pois(f| B\\cdot4\\pi r^{2} )$\n",
    "\n",
    "Where r is the typical radius of the signal template psf.\n",
    "\n",
    "In order to find the threshold S for a given threshold flux, we need to caclulate the PDF of S, which we can do numerically by generating \"background only\" monte carlo samples, calculating the value of S in each pixel, and making a histogram of S. The code for this iterative procedure can be found <a href=\"#SandFthresholdsCode\">here</a>.\n",
    "\n",
    "In a \"naive\" approach we would use the signal template itself as the filter. Here the flux is not a factor in the value of the threshold test statistic, since it factors out."
   ]
  },
  {
   "cell_type": "markdown",
   "metadata": {},
   "source": [
    "<a id='thresholdResults'></a>"
   ]
  },
  {
   "cell_type": "markdown",
   "metadata": {},
   "source": [
    "#### Threshold Results\n",
    "\n",
    "Some values of $F_{th}$ and $S_{th}$ that were derived are shown in the following table:\n",
    "The calculations are performed with the python code attached below, and repeated in a seperate MATLAB implementation for verification. The MATLAB results are shown in parentheses next to the python based results.\n",
    "\n",
    "|B     | $\\frac{1}{\\tau}$| $\\sigma_{PSF}$ |   $\\beta$  | $F_{th}$          | $S_{th}$        | naive $S_{th}$ | \n",
    "|------|-----------------|----------------|------------|-------------------|-----------------|----------------| \n",
    "|0.005 | 0.2             | 2.0            |  $10^{-3}$ | 6.15   ( 5.76  )  | 7.01   (7.33 )  | 0.015  (0.017) | \n",
    "|0.005 | 0.5             | 2.0            |  $10^{-3}$ | 4.76   ( 4.63  )  | 6.92   (6.73 )  | 0.026  (0.026) | \n",
    "|0.005 | 0.8             | 2.0            |  $10^{-3}$ | 4.04   ( 4.03  )  | 6.69   (6.67 )  | 0.034  (0.034) | \n",
    "|0.005 | 0               | 2.0            |  $10^{-3}$ | 7.43   ( 6.18  )  | 7.77   (7.39 )  | 0.011  (0.014) | \n",
    "|0.005 | 0.5             | 2.0            |  $10^{-5}$ | 6.94   ( 7.43  )  | 11.98  (13.34)  | 0.042  (0.044) | \n",
    "|0.005 | 0.5             | 2.0            |  $10^{-1}$ | 1.40   ( 1.40  )  | 1.05   (1.05 )  | 0.007  (0.007) | \n",
    "|0.05  | 0.5             | 2.0            |  $10^{-3}$ | 11.85  ( 11.73 )  | 7.89   (7.91 )  | 0.059  (0.060) | \n",
    "|0.1   | 0.5             | 2.0            |  $10^{-3}$ | 16.06  ( 15.80 )  | 8.18   (8.16 )  | 0.080  (0.080) | \n",
    "|0.005 | 0.5             | 3.0            |  $10^{-3}$ | 6.48   ( 6.28  )  | 7.35   (7.09 )  | 0.015  (0.015) | \n",
    "|0.005 | 0.5             | 4.0            |  $10^{-3}$ | 7.48   ( 7.77  )  | 6.91   (7.45 )  | 0.010  (0.011) | \n",
    "\n",
    "\n",
    "where the decay constant $\\frac{1}{\\tau}$ and the PSF standard deviation $\\sigma_{PSF}$ are given in pixels. \n",
    "\n",
    "In each case, the PDF of S was estimated from $3\\times 10^6$ distinct values of S. (for both python and MATLAB versions)\n",
    "\n",
    "An example of the distribution of S (left) and the distribution of S when using the template itself as the filter (right):\n",
    "\n",
    "<p float=\"left\">\n",
    "  <img align=\"left\" src=\"images/PDF_of_S.png\" width=\"450\"/> \n",
    "  <img align=\"left\" src=\"images/PDF_of_naiveS.png\" width=\"450\"/>\n",
    "</p>"
   ]
  },
  {
   "cell_type": "markdown",
   "metadata": {},
   "source": [
    "<a id='Completeness'></a>"
   ]
  },
  {
   "cell_type": "markdown",
   "metadata": {},
   "source": [
    "### Completeness of signal detection for both methods\n",
    "\n",
    "In order to calculate the true positive rate (the completeness), we can generate multiple images containing signals, and check if the value of the test statistic evaluated at the signal location passes the threshold.\n",
    "\n",
    "The results for a variety of values of B, $\\frac{1}{\\tau}$, $\\sigma_{PSF}$ and $\\beta$ are shown below. \n",
    "\n",
    "The completeness at each flux value was estimated based on $1\\times10^5$ distinct tries."
   ]
  },
  {
   "cell_type": "markdown",
   "metadata": {},
   "source": [
    "<a id='background'></a>"
   ]
  },
  {
   "cell_type": "markdown",
   "metadata": {},
   "source": [
    "#### Completeness as a function of background expectation\n",
    "\n",
    "<img align=\"left\" src=\"images/B.png\" width=\"900\"/> \n"
   ]
  },
  {
   "cell_type": "markdown",
   "metadata": {},
   "source": [
    "<a id='positive'></a>"
   ]
  },
  {
   "cell_type": "markdown",
   "metadata": {},
   "source": [
    "#### Completeness as a function of false positive rate\n",
    "\n",
    "<img align=\"left\" src=\"images/beta.png\" width=\"900\"/> \n"
   ]
  },
  {
   "cell_type": "markdown",
   "metadata": {},
   "source": [
    "<a id='decay'></a>"
   ]
  },
  {
   "cell_type": "markdown",
   "metadata": {},
   "source": [
    "#### Completeness as a function of decay time of flare\n",
    "\n",
    "<img align=\"left\" src=\"images/decaycst.png\" width=\"900\"/> \n"
   ]
  },
  {
   "cell_type": "markdown",
   "metadata": {},
   "source": [
    "<a id='PSF'></a>"
   ]
  },
  {
   "cell_type": "markdown",
   "metadata": {},
   "source": [
    "#### Completeness as a function of size of PSF\n",
    "\n",
    "<img align=\"left\" src=\"images/psfwidth.png\" width=\"900\"/> \n"
   ]
  },
  {
   "cell_type": "markdown",
   "metadata": {},
   "source": [
    "<a id='Conclusions'></a>"
   ]
  },
  {
   "cell_type": "markdown",
   "metadata": {},
   "source": [
    "### Conclusions\n",
    "\n",
    "Using the method derived here provides better signal detection efficiency for a given $\\beta$ compared to using the signal template as a filter. The magnitude of the improvement depends on how far from the gaussian approximation the background is, and how low we wish to set the false positive rate."
   ]
  },
  {
   "cell_type": "markdown",
   "metadata": {},
   "source": [
    "<a id='Code'></a>"
   ]
  },
  {
   "cell_type": "markdown",
   "metadata": {},
   "source": [
    "## Code\n",
    "**Note:** We present here the different functions we used to generate the results above. But due to performance issues, we only give examples of running them with low statistics. A simple framework to submit jobs to the cluster was developped and used to produce the results presented above.\n",
    "\n",
    "The code for running jobs with higher stats can be found here: - <a href=\"https://github.com/jshlomi/SignalProcessingProject\">Link</a><br>\n",
    "\n",
    "- <a href=\"https://github.com/jshlomi/SignalProcessingProject/tree/master/MatlabCode\">External link to MATLAB code</a><br>\n",
    "\n",
    "**List of parameters**"
   ]
  },
  {
   "cell_type": "code",
   "execution_count": 20,
   "metadata": {
    "collapsed": true
   },
   "outputs": [],
   "source": [
    "Nxy=100 ## Dimension of large image - xyplane - defines the statistics used to calculate PDF of S\n",
    "Nt=80 ## Dimension of large image - tplane - defines the statistics used to calculate PDF of S\n",
    "Mxy=20 ## Dimension of template - xyplane\n",
    "Mt=16 ## Dimension of template - tplane\n",
    "B=0.005 ## Noise expectation value\n",
    "decaycst=0.5 ## Decay constant of template signal\n",
    "F=5 ## Default norm of template signal\n",
    "psfwidth=2 ## PSF width\n",
    "x_tsig,y_tsig,z_tsig=(20,40,60) ## Location of template signal\n",
    "beta=0.001 ## False positive alarm rate\n",
    "Ntries=1000 ## Number of tries for completeness"
   ]
  },
  {
   "cell_type": "markdown",
   "metadata": {},
   "source": [
    "<a id='statModelCode'></a>"
   ]
  },
  {
   "cell_type": "markdown",
   "metadata": {},
   "source": [
    "**List of functions and example use**"
   ]
  },
  {
   "cell_type": "code",
   "execution_count": 21,
   "metadata": {
    "collapsed": true
   },
   "outputs": [],
   "source": [
    "## Plot 2D colormap plot of 3D array sliced at desired axis and axis value\n",
    "def make2Dsliceplot(ar3D,slax,val,title):\n",
    "    if slax=='x': ar2D=ar3D[val,:,:]\n",
    "    if slax=='y': ar2D=ar3D[:,val,:]\n",
    "    if slax=='z': ar2D=ar3D[:,:,val]\n",
    "    fig=plt.figure()\n",
    "    ax=fig.add_subplot(111)\n",
    "    plt.imshow(ar2D,cmap='viridis',interpolation='nearest')\n",
    "    plt.colorbar(orientation='vertical')\n",
    "    plt.title(\"%s for %s=%s\"%(title,slax,val))\n",
    "    \n",
    "##Parameters\n",
    "## ar3D : the 3D array\n",
    "## slax : axis to slice on, either 'x','y' or 'z'\n",
    "## val : axis value to slice on\n",
    "## title : plot description"
   ]
  },
  {
   "cell_type": "code",
   "execution_count": 22,
   "metadata": {
    "collapsed": false
   },
   "outputs": [
    {
     "data": {
      "image/png": "[encoded data removed]",
      "text/plain": [
       "<matplotlib.figure.Figure at 0x117748950>"
      ]
     },
     "metadata": {},
     "output_type": "display_data"
    },
    {
     "data": {
      "image/png": "[encoded data removed]",
      "text/plain": [
       "<matplotlib.figure.Figure at 0x11744fa50>"
      ]
     },
     "metadata": {},
     "output_type": "display_data"
    }
   ],
   "source": [
    "## Return 3D image filled with noise, substract average, add signal\n",
    "def makeImage(size,ssig=None,noise_avg=None,x=x_tsig,y=y_tsig,z=z_tsig):\n",
    "    if size=='large': nx=Nxy; ny=Nxy; nt=Nt;\n",
    "    elif size=='small': nx=Mxy; ny=Mxy; nt=Mt;\n",
    "    else: print \"size:\",size\n",
    "    image=np.random.poisson(B,(nx,ny,nt))\n",
    "    if size=='large' and noise_avg is None:\n",
    "        noise_avg=np.mean(image)\n",
    "        returnAVG=True\n",
    "    else:\n",
    "        returnAVG=False\n",
    "    image=image-noise_avg\n",
    "    if not ssig is None:\n",
    "        for i in range(Mxy):\n",
    "            for j in range(Mxy):\n",
    "                for t in range(Mt):\n",
    "                    if size=='large':\n",
    "                        image[i+x-Mxy/2][j+y-Mxy/2][t+z-Mt/2]+=ssig[i][j][t]\n",
    "                    else:\n",
    "                        image[i][j][t]+=ssig[i][j][t] ## image and ssig have the same size\n",
    "    if returnAVG:\n",
    "        return image,noise_avg\n",
    "    else: \n",
    "        return image\n",
    "\n",
    "## Parameters:\n",
    "## size : size of returned image. If size=='large' -> Nxy*Nxy*Nt ; If size == 'small' -> Mxy*Mxy*Mt\n",
    "## noise_avg : average of the bkg to be substracted ; when left to None it is calculated from current generated image\n",
    "## ssig : simulated signal to add to the bkg filled image, must be of dimension Mxy*Mxy*Mt. Default is None\n",
    "## x,y,z: index location of where to add the signal - relevant only if size == 'large' and ssig is not None\n",
    "\n",
    "## Note:\n",
    "## The first time we run this function is to generate a 'large' image with bkg only, and we calculate the noise_avg \n",
    "## value that will be substracted everytime this function is called again\n",
    "\n",
    "## Examples:\n",
    "ex1,noise_avg=makeImage('large')\n",
    "make2Dsliceplot(ex1,'x',Nxy/2,\"ex1: 'large' image, bkg only\")\n",
    "ex2=makeImage('small',noise_avg=noise_avg)\n",
    "make2Dsliceplot(ex2,'z',Mt/2,\"ex2: 'small' image, bkg only\")"
   ]
  },
  {
   "cell_type": "code",
   "execution_count": 23,
   "metadata": {
    "collapsed": false
   },
   "outputs": [
    {
     "data": {
      "image/png": "[encoded data removed]",
      "text/plain": [
       "<matplotlib.figure.Figure at 0x116b41ad0>"
      ]
     },
     "metadata": {},
     "output_type": "display_data"
    },
    {
     "data": {
      "image/png": "[encoded data removed]",
      "text/plain": [
       "<matplotlib.figure.Figure at 0x116defe10>"
      ]
     },
     "metadata": {},
     "output_type": "display_data"
    }
   ],
   "source": [
    "## Return normalized template signal of size Mxy*Mxy*Mt\n",
    "## The template signal is a PSF in the xy plane and exponentially decaying in the z-direction\n",
    "def makeTemplate():                                                                                                                           \n",
    "    tsig=np.zeros((Mxy,Mxy,Mt))\n",
    "    for t in range(2,Mt):\n",
    "        tnorm=np.exp(-decaycst*t)\n",
    "        for i in range(Mxy):\n",
    "            for j in range(Mxy):\n",
    "                tsig[i][j][t]=(tnorm/np.sqrt(2*np.pi*psfwidth**2))*np.exp(-((i-Mxy/2.)**2+(j-Mxy/2.)**2)/(2*psfwidth**2))\n",
    "    tsig/=float(np.sum(tsig))\n",
    "    return tsig\n",
    "\n",
    "## Example:\n",
    "ex3=makeTemplate()\n",
    "make2Dsliceplot(ex3,'x',Mxy/2,\"ex3: template signal\")\n",
    "ex4=makeImage('large',100*ex3,noise_avg=noise_avg)\n",
    "make2Dsliceplot(ex4,'x',x_tsig,\"ex4: large image with template signal with F = 100\")"
   ]
  },
  {
   "cell_type": "code",
   "execution_count": 24,
   "metadata": {
    "collapsed": false
   },
   "outputs": [
    {
     "data": {
      "image/png": "[encoded data removed]",
      "text/plain": [
       "<matplotlib.figure.Figure at 0x1175b1610>"
      ]
     },
     "metadata": {},
     "output_type": "display_data"
    },
    {
     "data": {
      "image/png": "[encoded data removed]",
      "text/plain": [
       "<matplotlib.figure.Figure at 0x116aeb950>"
      ]
     },
     "metadata": {},
     "output_type": "display_data"
    },
    {
     "data": {
      "image/png": "[encoded data removed]",
      "text/plain": [
       "<matplotlib.figure.Figure at 0x116aeb250>"
      ]
     },
     "metadata": {},
     "output_type": "display_data"
    }
   ],
   "source": [
    "## Return simulated signal from template\n",
    "## This simulates the detector response to the template signal scaled to a given flux\n",
    "def makeSimSignal(tsig,f=None,t=None):                                               \n",
    "    if f is None: f=F\n",
    "    if t is None: t=1\n",
    "    ssig=np.zeros((Mxy,Mxy,Mt))\n",
    "    for i in range(Mxy):\n",
    "        for j in range(Mxy):\n",
    "            for t in range(Mt):\n",
    "                ssig[i][j][t]=np.random.poisson(f*t*tsig[i][j][t])\n",
    "    return ssig\n",
    "\n",
    "## Parameters:\n",
    "## tsig is the template signal from above\n",
    "## f is the desired overall signal flux, default is F\n",
    "## t is the exposition time between two images, default is 1\n",
    "\n",
    "## Examples:\n",
    "ex5=makeSimSignal(ex3,5)\n",
    "make2Dsliceplot(ex5,'x',Mxy/2,\"ex5: simulated signal with F = 5\")\n",
    "ex6=makeSimSignal(ex3,100)\n",
    "make2Dsliceplot(ex6,'x',Mxy/2,\"ex6: simulated signal with F = 100\")\n",
    "ex7=makeImage('large',ex6,noise_avg=noise_avg)\n",
    "make2Dsliceplot(ex7,'x',x_tsig,\"ex7: 'large' image of bkg + simulated signal with F = 100\")"
   ]
  },
  {
   "cell_type": "code",
   "execution_count": 25,
   "metadata": {
    "collapsed": false
   },
   "outputs": [
    {
     "data": {
      "image/png": "[encoded data removed]",
      "text/plain": [
       "<matplotlib.figure.Figure at 0x116b1c450>"
      ]
     },
     "metadata": {},
     "output_type": "display_data"
    }
   ],
   "source": [
    "## Return filter for Poisson matched filtering based on formula described above\n",
    "def makeFilter(tsig,flux=None):                                                                                                                                               \n",
    "    if flux is None: flux=F\n",
    "    filt=np.zeros((Mxy,Mxy,Mt))\n",
    "    for i in range(Mxy):\n",
    "        for j in range(Mxy):\n",
    "            for t in range(Mt):\n",
    "                filt[i][j][t]=np.log(1+flux*tsig[i][j][t]/B)\n",
    "    return filt\n",
    "\n",
    "## Parameters:\n",
    "## tsig : template signal\n",
    "## flux : desired overall signal flux, defaults as F_init\n",
    "\n",
    "## Example:\n",
    "ex8=makeFilter(ex3,100)\n",
    "make2Dsliceplot(ex8,'x',Mxy/2,\"ex8: filter for signal with F = 100\")"
   ]
  },
  {
   "cell_type": "code",
   "execution_count": 26,
   "metadata": {
    "collapsed": false
   },
   "outputs": [
    {
     "data": {
      "image/png": "[encoded data removed]",
      "text/plain": [
       "<matplotlib.figure.Figure at 0x116b1c890>"
      ]
     },
     "metadata": {},
     "output_type": "display_data"
    }
   ],
   "source": [
    "## Return built-in cross-correlation between two arrays\n",
    "def crossCorrelate(image,filt):\n",
    "    ## cross-correlate image and filter\n",
    "    mf=signal.correlate(image,filt,'same')\n",
    "    return mf\n",
    "\n",
    "## Example:\n",
    "ex10=crossCorrelate(ex7,ex8)\n",
    "make2Dsliceplot(ex10,'x',x_tsig,\"ex10: Poisson matched filter for signal with F = 100\")"
   ]
  },
  {
   "cell_type": "markdown",
   "metadata": {},
   "source": [
    "<a id='SandFthresholdsCode'></a>"
   ]
  },
  {
   "cell_type": "code",
   "execution_count": 27,
   "metadata": {
    "collapsed": true
   },
   "outputs": [],
   "source": [
    "## Sum of element by element multiplication of 2 matrices of same size\n",
    "## Used for template signal * filter\n",
    "## Used for image*filter when image is 'small' instead of cross-correlation\n",
    "def getFiltNorm(im,filt):\n",
    "    return np.sum(np.multiply(im,filt))"
   ]
  },
  {
   "cell_type": "code",
   "execution_count": 28,
   "metadata": {
    "collapsed": false
   },
   "outputs": [
    {
     "name": "stdout",
     "output_type": "stream",
     "text": [
      "Getting Fth and Sth:\n",
      "Fth = 100\n",
      "SF = 4.04718422007\n",
      "Sth = 20.2336514464\n",
      "Fth_new = 5.00443920173 \n",
      "\n",
      "Fth = 5.00443920173\n",
      "SF = 1.49104938381\n",
      "Sth = 6.89055887919\n",
      "Fth_new = 4.62628146393 \n",
      "\n",
      "Fth = 4.62628146393\n",
      "SF = 1.43692754847\n",
      "Sth = 6.63431865985\n",
      "Fth_new = 4.62201681961 \n",
      "\n",
      "Fth = 4.62 Sth = 6.63 \n",
      "\n"
     ]
    },
    {
     "data": {
      "image/png": "[encoded data removed]",
      "text/plain": [
       "<matplotlib.figure.Figure at 0x116b1c110>"
      ]
     },
     "metadata": {},
     "output_type": "display_data"
    }
   ],
   "source": [
    "## Implement iteration to find optimal threshold values of F and S\n",
    "## Input should be a 'large' image filled with bkg noise and a template signal\n",
    "## Option to plot the PDF of S\n",
    "def getFluxThreshold(image,tsig,showPDF=False):\n",
    "    print \"Getting Fth and Sth:\"\n",
    "    Fth=100 ## Initialize with a high number \n",
    "    converged=False\n",
    "    while(not converged):\n",
    "        print \"Fth =\",Fth\n",
    "        filt=makeFilter(tsig,Fth)\n",
    "        SF=getFiltNorm(tsig,filt)\n",
    "        print \"SF =\",SF\n",
    "        mf=crossCorrelate(image,filt)\n",
    "        Sth=np.percentile(mf.flatten(),(1-beta)*100.0) ## Get current Sth\n",
    "        print \"Sth =\",Sth\n",
    "        Fth_new=Sth/SF+B\n",
    "        print \"Fth_new =\",Fth_new,\"\\n\"\n",
    "        if (abs(Fth-Fth_new)<0.01*Fth): converged=True\n",
    "        Fth=Fth_new\n",
    "    print \"Fth =\",\"%.2f\"%Fth,\"Sth =\",\"%.2f\"%Sth,\"\\n\"\n",
    "    if showPDF:\n",
    "        hist,bin_edges=np.histogram(mf.flatten(),200,density=True)\n",
    "        plt.plot(bin_edges[:-1],hist)\n",
    "        plt.yscale('log')\n",
    "        plt.title(\"PDF of S\")\n",
    "        plt.show()\n",
    "    return Fth,Sth\n",
    "\n",
    "## Example\n",
    "Ftmp,Stmp=getFluxThreshold(makeImage('large',noise_avg=noise_avg),ex3,True)"
   ]
  },
  {
   "cell_type": "code",
   "execution_count": null,
   "metadata": {
    "collapsed": false
   },
   "outputs": [
    {
     "name": "stdout",
     "output_type": "stream",
     "text": [
      "Getting Sth in Gaussian approx:\n",
      "Sth = 0.026 \n",
      "\n"
     ]
    },
    {
     "data": {
      "image/png": "[encoded data removed]",
      "text/plain": [
       "<matplotlib.figure.Figure at 0x1174e7550>"
      ]
     },
     "metadata": {},
     "output_type": "display_data"
    }
   ],
   "source": [
    "## Get threshold for S in case of Gaussian matched filter, same input and options as above\n",
    "def getFluxThresholdGauss(image,tsig,showPDF=False):\n",
    "    print \"Getting Sth in Gaussian approx:\"\n",
    "    mf=crossCorrelate(image,tsig)\n",
    "    Sth=np.percentile(mf.flatten(),(1-beta)*100.0)\n",
    "    print \"Sth =\",\"%.2g\"%Sth,\"\\n\"\n",
    "    if showPDF:\n",
    "        hist,bin_edges=np.histogram(mf.flatten(),200,density=True)\n",
    "        plt.plot(bin_edges[:-1],hist)\n",
    "        plt.yscale('log')\n",
    "        plt.title(\"PDF of S - Gaussian case\")\n",
    "        plt.show()\n",
    "    return Sth\n",
    "\n",
    "## Example\n",
    "Stmp=getFluxThresholdGauss(makeImage('large',noise_avg=noise_avg),ex3,True)"
   ]
  },
  {
   "cell_type": "markdown",
   "metadata": {},
   "source": [
    "<a id='CompleteCode'></a>"
   ]
  },
  {
   "cell_type": "markdown",
   "metadata": {},
   "source": [
    "** Full Code usage example **"
   ]
  },
  {
   "cell_type": "code",
   "execution_count": null,
   "metadata": {
    "collapsed": false
   },
   "outputs": [
    {
     "name": "stdout",
     "output_type": "stream",
     "text": [
      "Getting Fth and Sth:\n",
      "Fth = 100\n",
      "SF = 4.04718422007\n",
      "Sth = 22.2895908379\n",
      "Fth_new = 5.51243174164 \n",
      "\n",
      "Fth = 5.51243174164\n",
      "SF = 1.55893696289\n",
      "Sth = 7.57219974343\n",
      "Fth_new = 4.86228411326 \n",
      "\n",
      "Fth = 4.86228411326\n",
      "SF = 1.47108888507\n",
      "Sth = 7.12692675564\n",
      "Fth_new = 4.84966086853 \n",
      "\n",
      "Fth = 4.85 Sth = 7.13 \n",
      "\n",
      "Getting Sth in Gaussian approx:\n",
      "Sth = 0.026 \n",
      "\n",
      "Checking completeness for 1000 tries\n",
      "SignalFlux / Completeness / Completeness - GaussianApprox\n",
      "0 /  0 /  0\n"
     ]
    }
   ],
   "source": [
    "## Get signal template (normalized)\n",
    "tsig=makeTemplate()\n",
    "\n",
    "## Get image filled with bkg and mean substracted + noise_avg value\n",
    "image,noise_avg=makeImage('large')\n",
    "\n",
    "## Find threshold values for F and S\n",
    "Fth,Sth=getFluxThreshold(image,tsig)\n",
    "\n",
    "## Find threshold value for S in Gaussian approx\n",
    "Sth_G=getFluxThresholdGauss(image,tsig)\n",
    "\n",
    "## Get filter for Poisson case only, since in Gaussian case the filter is the template signal\n",
    "filt=makeFilter(tsig,Fth)\n",
    "\n",
    "## Calculate completeness for various flux values and compare to Gaussian case\n",
    "print \"Checking completeness for %s tries\"%Ntries\n",
    "print \"SignalFlux\",\"/\",\"Completeness\",\"/\",\"Completeness - GaussianApprox\"\n",
    "fluxes=[0,0.5,1,2,3,4,5,7,10,15]\n",
    "successrate=[]\n",
    "successrate_G=[]\n",
    "for flux in fluxes:\n",
    "    Ntried=0\n",
    "    countsuccess=0\n",
    "    countsuccess_G=0\n",
    "    while(Ntried!=Ntries):\n",
    "        Ntried+=1\n",
    "        \n",
    "        ## Get simulated signal with relevant flux\n",
    "        ssig=makeSimSignal(tsig,flux)\n",
    "        \n",
    "        ## Get 'small' image of \"bkg + sim. signal - mean(bkg)\" of the size of the template\n",
    "        image=makeImage('small',ssig,noise_avg=noise_avg)\n",
    "        \n",
    "        ## Get sum of element by element multiplication of this image with filter (= S)\n",
    "        S=getFiltNorm(image,filt)\n",
    "        \n",
    "        ## Get sum of element by element multiplication of this image with template signal (= S_G)\n",
    "        S_G=getFiltNorm(image,tsig)\n",
    "        \n",
    "        ## Count number of succeses\n",
    "        if S>Sth:\n",
    "            countsuccess+=1\n",
    "        if S_G>Sth_G:\n",
    "            countsuccess_G+=1\n",
    "    print flux,\"/\",\"%2g\"%(countsuccess/float(Ntries)),\"/\",\"%2g\"%(countsuccess_G/float(Ntries))\n",
    "    successrate.append(countsuccess/float(Ntries))\n",
    "    successrate_G.append(countsuccess_G/float(Ntries))\n",
    "    \n",
    "## Make the plot\n",
    "fig, ax = plt.subplots()\n",
    "ax.plot(fluxes,successrate,label='Poisson')\n",
    "ax.plot(fluxes,successrate_G,label='Gauss')\n",
    "legend=ax.legend(shadow=True)\n",
    "plt.title(\"Completeness VS flux based on %s tries per flux value\"%Ntries);"
   ]
  },
  {
   "cell_type": "code",
   "execution_count": null,
   "metadata": {
    "collapsed": true
   },
   "outputs": [],
   "source": []
  }
 ],
 "metadata": {
  "kernelspec": {
   "display_name": "Python 2",
   "language": "python",
   "name": "python2"
  },
  "language_info": {
   "codemirror_mode": {
    "name": "ipython",
    "version": 2
   },
   "file_extension": ".py",
   "mimetype": "text/x-python",
   "name": "python",
   "nbconvert_exporter": "python",
   "pygments_lexer": "ipython2",
   "version": "2.7.10"
  }
 },
 "nbformat": 4,
 "nbformat_minor": 2
}
